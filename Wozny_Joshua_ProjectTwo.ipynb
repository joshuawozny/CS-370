{
 "cells": [
  {
   "cell_type": "markdown",
   "metadata": {},
   "source": [
    "# Treasure Hunt Game Notebook\n",
    "\n",
    "## Read and Review Your Starter Code\n",
    "The theme of this project is a popular treasure hunt game in which the player needs to find the treasure before the pirate does. While you will not be developing the entire game, you will write the part of the game that represents the intelligent agent, which is a pirate in this case. The pirate will try to find the optimal path to the treasure using deep Q-learning. \n",
    "\n",
    "You have been provided with two Python classes and this notebook to help you with this assignment. The first class, TreasureMaze.py, represents the environment, which includes a maze object defined as a matrix. The second class, GameExperience.py, stores the episodes – that is, all the states that come in between the initial state and the terminal state. This is later used by the agent for learning by experience, called \"exploration\". This notebook shows how to play a game. Your task is to complete the deep Q-learning implementation for which a skeleton implementation has been provided. The code blocks you will need to complete has #TODO as a header.\n",
    "\n",
    "First, read and review the next few code and instruction blocks to understand the code that you have been given."
   ]
  },
  {
   "cell_type": "code",
   "execution_count": 1,
   "metadata": {},
   "outputs": [
    {
     "name": "stderr",
     "output_type": "stream",
     "text": [
      "Using TensorFlow backend.\n"
     ]
    }
   ],
   "source": [
    "from __future__ import print_function\n",
    "import os, sys, time, datetime, json, random\n",
    "import numpy as np\n",
    "from keras.models import Sequential\n",
    "from keras.layers.core import Dense, Activation\n",
    "from keras.optimizers import SGD , Adam, RMSprop\n",
    "from keras.layers.advanced_activations import PReLU\n",
    "import matplotlib.pyplot as plt\n",
    "from TreasureMaze import TreasureMaze\n",
    "from GameExperience import GameExperience\n",
    "%matplotlib inline"
   ]
  },
  {
   "cell_type": "markdown",
   "metadata": {},
   "source": [
    "The following code block contains an 8x8 matrix that will be used as a maze object:"
   ]
  },
  {
   "cell_type": "code",
   "execution_count": 2,
   "metadata": {},
   "outputs": [],
   "source": [
    "\n",
    "maze = np.array([\n",
    "    [ 1.,  0.,  1.,  1.,  1.,  1.,  1.,  1.],\n",
    "    [ 1.,  0.,  1.,  1.,  1.,  0.,  1.,  1.],\n",
    "    [ 1.,  1.,  1.,  1.,  0.,  1.,  0.,  1.],\n",
    "    [ 1.,  1.,  1.,  0.,  1.,  1.,  1.,  1.],\n",
    "    [ 1.,  1.,  0.,  1.,  1.,  1.,  1.,  1.],\n",
    "    [ 1.,  1.,  1.,  0.,  1.,  0.,  0.,  0.],\n",
    "    [ 1.,  1.,  1.,  0.,  1.,  1.,  1.,  1.],\n",
    "    [ 1.,  1.,  1.,  1.,  0.,  1.,  1.,  1.]\n",
    "])\n"
   ]
  },
  {
   "cell_type": "markdown",
   "metadata": {},
   "source": [
    "This helper function allows a visual representation of the maze object:"
   ]
  },
  {
   "cell_type": "code",
   "execution_count": 3,
   "metadata": {},
   "outputs": [],
   "source": [
    "def show(qmaze):\n",
    "    plt.grid('on')\n",
    "    nrows, ncols = qmaze.maze.shape\n",
    "    ax = plt.gca()\n",
    "    ax.set_xticks(np.arange(0.5, nrows, 1))\n",
    "    ax.set_yticks(np.arange(0.5, ncols, 1))\n",
    "    ax.set_xticklabels([])\n",
    "    ax.set_yticklabels([])\n",
    "    canvas = np.copy(qmaze.maze)\n",
    "    for row,col in qmaze.visited:\n",
    "        canvas[row,col] = 0.6\n",
    "    pirate_row, pirate_col, _ = qmaze.state\n",
    "    canvas[pirate_row, pirate_col] = 0.3   # pirate cell\n",
    "    canvas[nrows-1, ncols-1] = 0.9 # treasure cell\n",
    "    img = plt.imshow(canvas, interpolation='none', cmap='gray')\n",
    "    return img\n"
   ]
  },
  {
   "cell_type": "markdown",
   "metadata": {},
   "source": [
    "The pirate agent can move in four directions: left, right, up, and down. \n",
    "\n",
    "While the agent primarily learns by experience through exploitation, often, the agent can choose to explore the environment to find previously undiscovered paths. This is called \"exploration\" and is defined by epsilon. This value is typically a lower value such as 0.1, which means for every ten attempts, the agent will attempt to learn by experience nine times and will randomly explore a new path one time. You are encouraged to try various values for the exploration factor and see how the algorithm performs."
   ]
  },
  {
   "cell_type": "code",
   "execution_count": 4,
   "metadata": {},
   "outputs": [],
   "source": [
    "LEFT = 0\n",
    "UP = 1\n",
    "RIGHT = 2\n",
    "DOWN = 3\n",
    "\n",
    "\n",
    "# Exploration factor\n",
    "epsilon = 0.1\n",
    "\n",
    "# Actions dictionary\n",
    "actions_dict = {\n",
    "    LEFT: 'left',\n",
    "    UP: 'up',\n",
    "    RIGHT: 'right',\n",
    "    DOWN: 'down',\n",
    "}\n",
    "\n",
    "num_actions = len(actions_dict)\n",
    "\n"
   ]
  },
  {
   "cell_type": "markdown",
   "metadata": {},
   "source": [
    "The sample code block and output below show creating a maze object and performing one action (DOWN), which returns the reward. The resulting updated environment is visualized."
   ]
  },
  {
   "cell_type": "code",
   "execution_count": 5,
   "metadata": {},
   "outputs": [
    {
     "name": "stdout",
     "output_type": "stream",
     "text": [
      "reward= -0.04\n"
     ]
    },
    {
     "data": {
      "text/plain": [
       "<matplotlib.image.AxesImage at 0x26c125f5288>"
      ]
     },
     "execution_count": 5,
     "metadata": {},
     "output_type": "execute_result"
    },
    {
     "data": {
      "image/png": "[encoded data removed]",
      "text/plain": [
       "<Figure size 432x288 with 1 Axes>"
      ]
     },
     "metadata": {
      "needs_background": "light"
     },
     "output_type": "display_data"
    }
   ],
   "source": [
    "qmaze = TreasureMaze(maze)\n",
    "canvas, reward, game_over = qmaze.act(DOWN)\n",
    "print(\"reward=\", reward)\n",
    "show(qmaze)\n"
   ]
  },
  {
   "cell_type": "markdown",
   "metadata": {},
   "source": [
    "This function simulates a full game based on the provided trained model. The other parameters include the TreasureMaze object and the starting position of the pirate."
   ]
  },
  {
   "cell_type": "code",
   "execution_count": 6,
   "metadata": {},
   "outputs": [],
   "source": [
    "def play_game(model, qmaze, pirate_cell):\n",
    "    qmaze.reset(pirate_cell)\n",
    "    envstate = qmaze.observe()\n",
    "    while True:\n",
    "        prev_envstate = envstate\n",
    "        # get next action\n",
    "        q = model.predict(prev_envstate)\n",
    "        action = np.argmax(q[0])\n",
    "\n",
    "        # apply action, get rewards and new state\n",
    "        envstate, reward, game_status = qmaze.act(action)\n",
    "        if game_status == 'win':\n",
    "            return True\n",
    "        elif game_status == 'lose':\n",
    "            return False\n",
    "        "
   ]
  },
  {
   "cell_type": "markdown",
   "metadata": {},
   "source": [
    "This function helps you to determine whether the pirate can win any game at all. If your maze is not well designed, the pirate may not win any game at all. In this case, your training would not yield any result. The provided maze in this notebook ensures that there is a path to win and you can run this method to check."
   ]
  },
  {
   "cell_type": "code",
   "execution_count": 7,
   "metadata": {},
   "outputs": [],
   "source": [
    "def completion_check(model, qmaze):\n",
    "    for cell in qmaze.free_cells:\n",
    "        if not qmaze.valid_actions(cell):\n",
    "            return False\n",
    "        if not play_game(model, qmaze, cell):\n",
    "            return False\n",
    "    return True"
   ]
  },
  {
   "cell_type": "markdown",
   "metadata": {},
   "source": [
    "The code you have been given in this block will build the neural network model. Review the code and note the number of layers, as well as the activation, optimizer, and loss functions that are used to train the model."
   ]
  },
  {
   "cell_type": "code",
   "execution_count": 8,
   "metadata": {},
   "outputs": [],
   "source": [
    "\n",
    "def build_model(maze):\n",
    "    model = Sequential()\n",
    "    # model.add(Dense(maze.size, input_shape=(maze.size,)))\n",
    "    model.add(Dense(maze.size, input_shape=(maze.size,),activation='relu'))\n",
    "    #model.add(PReLU())\n",
    "    #model.add(Dense(maze.size, activation='relu'))\n",
    "    #model.add(PReLU())\n",
    "    model.add(Dense(num_actions, activation='linear'))\n",
    "    optimizer = Adam(learning_rate=0.01)\n",
    "    model.compile(optimizer=optimizer, loss='mse')\n",
    "    return model\n"
   ]
  },
  {
   "cell_type": "markdown",
   "metadata": {},
   "source": [
    "# #TODO: Complete the Q-Training Algorithm Code Block\n",
    "\n",
    "This is your deep Q-learning implementation. The goal of your deep Q-learning implementation is to find the best possible navigation sequence that results in reaching the treasure cell while maximizing the reward. In your implementation, you need to determine the optimal number of epochs to achieve a 100% win rate.\n",
    "\n",
    "You will need to complete the section starting with #pseudocode. The pseudocode has been included for you."
   ]
  },
  {
   "cell_type": "code",
   "execution_count": 9,
   "metadata": {},
   "outputs": [],
   "source": [
    "def qtrain(model, maze, **opt):\n",
    "\n",
    "    # exploration factor\n",
    "    global epsilon \n",
    "\n",
    "    # number of epochs\n",
    "    n_epoch = opt.get('n_epoch', 500)\n",
    "\n",
    "    # maximum memory to store episodes\n",
    "    max_memory = opt.get('max_memory', 1000)\n",
    "\n",
    "    # maximum data size for training\n",
    "    data_size = opt.get('data_size', 50)\n",
    "\n",
    "    # start time\n",
    "    start_time = datetime.datetime.now()\n",
    "\n",
    "    # Construct environment/game from numpy array: maze (see above)\n",
    "    qmaze = TreasureMaze(maze)\n",
    "\n",
    "    # Initialize experience replay object\n",
    "    experience = GameExperience(model, max_memory=max_memory)\n",
    "    \n",
    "    win_history = []   # history of win/lose game\n",
    "    hsize = qmaze.maze.size//2   # history window size\n",
    "    win_rate = 0.0\n",
    "    epsilon_decay = 0.996  #rate at which exploration rate decreases over time\n",
    "    epsilon_min = 0.01 # minimum epsilon to prevent AI from elminating exploratiom altogether\n",
    "    \n",
    "    # pseudocode:\n",
    "    # For each epoch:\n",
    "    for epoch in range(n_epoch):\n",
    "        loss = 0.0 #intialize\n",
    "        n_episodes = 0 #initialize\n",
    "    #    Agent_cell = randomly select a free cell\n",
    "        agent_cell = random.choice(qmaze.free_cells)\n",
    "    #    Reset the maze with agent set to above position\n",
    "    #    Hint: Review the reset method in the TreasureMaze.py class.\n",
    "        qmaze.reset(agent_cell)\n",
    "    #   envstate = Environment.current_state\n",
    "        envstate = qmaze.observe()\n",
    "    #    Hint: Review the observe method in the TreasureMaze.py class.\n",
    "    #    While state is not game over:\n",
    "        while True:\n",
    "            previous_envstate = envstate\n",
    "    #        Action = randomly choose action (left, right, up, down) either by exploration or by exploitation\n",
    "            if np.random.rand() < epsilon:\n",
    "                action = np.random. randint(0, num_actions)\n",
    "            else:\n",
    "                action = np.argmax(model.predict(previous_envstate))\n",
    "            envstate, reward, game_status = qmaze.act(action)\n",
    "            \n",
    "    #    Hint: Review the act method in the TreasureMaze.py class.\n",
    "            episode = [previous_envstate, action, reward, envstate, game_status]\n",
    "    #        Store episode in Experience replay object\n",
    "    #    Hint: Review the remember method in the GameExperience.py class.\n",
    "            experience.remember(episode)\n",
    "    #        Train neural network model and evaluate loss\n",
    "    #    Hint: Call GameExperience.get_data to retrieve training data (input and target) and pass to model.fit method \n",
    "    #          to train the model. You can call model.evaluate to determine loss.\n",
    "            inputs, targets = experience.get_data(data_size=data_size)\n",
    "            h = model.fit(inputs, targets, epochs=8, batch_size=32, verbose=0)\n",
    "            loss = model.evaluate(inputs, targets, verbose=0)\n",
    "    \n",
    "    #    If the win rate is above the threshold and your model passes the completion check, that would be your epoch.\n",
    "            if game_status in ['win', 'lose']:\n",
    "                n_episodes += 1 #increment for numer of episodes completed\n",
    "                break\n",
    "        if len(win_history) > hsize:\n",
    "            win_rate = sum(win_history[-hsize:])/hsize\n",
    "        if epsilon > epsilon_min:\n",
    "            epsilon *= epsilon_decay\n",
    "\n",
    "    #Print the epoch, loss, episodes, win count, and win rate for each epoch\n",
    "        dt = datetime.datetime.now() - start_time\n",
    "        t = format_time(dt.total_seconds())\n",
    "        template = \"Epoch: {:03d}/{:d} | Loss: {:.4f} | Episodes: {:d} | Win count: {:d} | Win rate: {:.3f} | time: {}\"\n",
    "        print(template.format(epoch, n_epoch-1, loss, n_episodes, sum(win_history), win_rate, t))\n",
    "        # We simply check if training has exhausted all free cells and if in all\n",
    "        # cases the agent won.\n",
    "        #if win_rate > 0.9 : epsilon = 0.05\n",
    "        #if sum(win_history[-hsize:]) == hsize and completion_check(model, qmaze):\n",
    "        if win_rate > 0.90 and completion_check(model, qmaze):\n",
    "            print(\"Reached 100%% win rate at epoch: %d\" % (epoch,))\n",
    "            break\n",
    "        \n",
    "    \n",
    "    # Determine the total time for training\n",
    "    dt = datetime.datetime.now() - start_time\n",
    "    seconds = dt.total_seconds()\n",
    "    t = format_time(seconds)\n",
    "\n",
    "    print(\"n_epoch: %d, max_mem: %d, data: %d, time: %s\" % (epoch, max_memory, data_size, t))\n",
    "    return seconds\n",
    "\n",
    "# This is a small utility for printing readable time strings:\n",
    "def format_time(seconds):\n",
    "    if seconds < 400:\n",
    "        s = float(seconds)\n",
    "        return \"%.1f seconds\" % (s,)\n",
    "    elif seconds < 4000:\n",
    "        m = seconds / 60.0\n",
    "        return \"%.2f minutes\" % (m,)\n",
    "    else:\n",
    "        h = seconds / 3600.0\n",
    "        return \"%.2f hours\" % (h,)"
   ]
  },
  {
   "cell_type": "markdown",
   "metadata": {},
   "source": [
    "## Test Your Model\n",
    "\n",
    "Now we will start testing the deep Q-learning implementation. To begin, select **Cell**, then **Run All** from the menu bar. This will run your notebook. As it runs, you should see output begin to appear beneath the next few cells. The code below creates an instance of TreasureMaze."
   ]
  },
  {
   "cell_type": "code",
   "execution_count": 10,
   "metadata": {},
   "outputs": [
    {
     "data": {
      "text/plain": [
       "<matplotlib.image.AxesImage at 0x26c136850c8>"
      ]
     },
     "execution_count": 10,
     "metadata": {},
     "output_type": "execute_result"
    },
    {
     "data": {
      "image/png": "[encoded data removed]",
      "text/plain": [
       "<Figure size 432x288 with 1 Axes>"
      ]
     },
     "metadata": {
      "needs_background": "light"
     },
     "output_type": "display_data"
    }
   ],
   "source": [
    "qmaze = TreasureMaze(maze)\n",
    "show(qmaze)"
   ]
  },
  {
   "cell_type": "markdown",
   "metadata": {},
   "source": [
    "In the next code block, you will build your model and train it using deep Q-learning. Note: This step takes several minutes to fully run."
   ]
  },
  {
   "cell_type": "code",
   "execution_count": 11,
   "metadata": {},
   "outputs": [
    {
     "name": "stdout",
     "output_type": "stream",
     "text": [
      "Epoch: 000/499 | Loss: 0.0003 | Episodes: 1 | Win count: 0 | Win rate: 0.000 | time: 7.5 seconds\n",
      "Epoch: 001/499 | Loss: 0.0004 | Episodes: 1 | Win count: 0 | Win rate: 0.000 | time: 13.5 seconds\n",
      "Epoch: 002/499 | Loss: 0.0007 | Episodes: 1 | Win count: 0 | Win rate: 0.000 | time: 20.0 seconds\n",
      "Epoch: 003/499 | Loss: 0.0011 | Episodes: 1 | Win count: 0 | Win rate: 0.000 | time: 26.9 seconds\n",
      "Epoch: 004/499 | Loss: 0.0011 | Episodes: 1 | Win count: 0 | Win rate: 0.000 | time: 33.6 seconds\n",
      "Epoch: 005/499 | Loss: 0.0004 | Episodes: 1 | Win count: 0 | Win rate: 0.000 | time: 37.6 seconds\n",
      "Epoch: 006/499 | Loss: 0.0016 | Episodes: 1 | Win count: 0 | Win rate: 0.000 | time: 44.7 seconds\n",
      "Epoch: 007/499 | Loss: 0.0015 | Episodes: 1 | Win count: 0 | Win rate: 0.000 | time: 50.9 seconds\n",
      "Epoch: 008/499 | Loss: 0.0013 | Episodes: 1 | Win count: 0 | Win rate: 0.000 | time: 57.2 seconds\n",
      "Epoch: 009/499 | Loss: 0.0001 | Episodes: 1 | Win count: 0 | Win rate: 0.000 | time: 63.1 seconds\n",
      "Epoch: 010/499 | Loss: 0.0006 | Episodes: 1 | Win count: 0 | Win rate: 0.000 | time: 69.1 seconds\n",
      "Epoch: 011/499 | Loss: 0.0011 | Episodes: 1 | Win count: 0 | Win rate: 0.000 | time: 75.2 seconds\n",
      "Epoch: 012/499 | Loss: 0.0001 | Episodes: 1 | Win count: 0 | Win rate: 0.000 | time: 76.1 seconds\n",
      "Epoch: 013/499 | Loss: 0.0013 | Episodes: 1 | Win count: 0 | Win rate: 0.000 | time: 82.2 seconds\n",
      "Epoch: 014/499 | Loss: 0.0011 | Episodes: 1 | Win count: 0 | Win rate: 0.000 | time: 88.1 seconds\n",
      "Epoch: 015/499 | Loss: 0.0000 | Episodes: 1 | Win count: 0 | Win rate: 0.000 | time: 93.5 seconds\n",
      "Epoch: 016/499 | Loss: 0.0006 | Episodes: 1 | Win count: 0 | Win rate: 0.000 | time: 99.3 seconds\n",
      "Epoch: 017/499 | Loss: 0.0000 | Episodes: 1 | Win count: 0 | Win rate: 0.000 | time: 105.1 seconds\n",
      "Epoch: 018/499 | Loss: 0.0017 | Episodes: 1 | Win count: 0 | Win rate: 0.000 | time: 110.6 seconds\n",
      "Epoch: 019/499 | Loss: 0.0001 | Episodes: 1 | Win count: 0 | Win rate: 0.000 | time: 116.6 seconds\n",
      "Epoch: 020/499 | Loss: 0.0001 | Episodes: 1 | Win count: 0 | Win rate: 0.000 | time: 116.7 seconds\n",
      "Epoch: 021/499 | Loss: 0.0001 | Episodes: 1 | Win count: 0 | Win rate: 0.000 | time: 122.3 seconds\n",
      "Epoch: 022/499 | Loss: 0.0063 | Episodes: 1 | Win count: 0 | Win rate: 0.000 | time: 122.3 seconds\n",
      "Epoch: 023/499 | Loss: 0.0012 | Episodes: 1 | Win count: 0 | Win rate: 0.000 | time: 128.4 seconds\n",
      "Epoch: 024/499 | Loss: 0.0001 | Episodes: 1 | Win count: 0 | Win rate: 0.000 | time: 134.3 seconds\n",
      "Epoch: 025/499 | Loss: 0.0003 | Episodes: 1 | Win count: 0 | Win rate: 0.000 | time: 140.4 seconds\n",
      "Epoch: 026/499 | Loss: 0.0022 | Episodes: 1 | Win count: 0 | Win rate: 0.000 | time: 146.5 seconds\n",
      "Epoch: 027/499 | Loss: 0.0020 | Episodes: 1 | Win count: 0 | Win rate: 0.000 | time: 149.1 seconds\n",
      "Epoch: 028/499 | Loss: 0.0009 | Episodes: 1 | Win count: 0 | Win rate: 0.000 | time: 155.3 seconds\n",
      "Epoch: 029/499 | Loss: 0.0007 | Episodes: 1 | Win count: 0 | Win rate: 0.000 | time: 156.4 seconds\n",
      "Epoch: 030/499 | Loss: 0.0019 | Episodes: 1 | Win count: 0 | Win rate: 0.000 | time: 161.9 seconds\n",
      "Epoch: 031/499 | Loss: 0.0013 | Episodes: 1 | Win count: 0 | Win rate: 0.000 | time: 167.7 seconds\n",
      "Epoch: 032/499 | Loss: 0.0195 | Episodes: 1 | Win count: 0 | Win rate: 0.000 | time: 172.8 seconds\n",
      "Epoch: 033/499 | Loss: 0.0007 | Episodes: 1 | Win count: 0 | Win rate: 0.000 | time: 178.2 seconds\n",
      "Epoch: 034/499 | Loss: 0.0018 | Episodes: 1 | Win count: 0 | Win rate: 0.000 | time: 183.7 seconds\n",
      "Epoch: 035/499 | Loss: 0.0009 | Episodes: 1 | Win count: 0 | Win rate: 0.000 | time: 189.4 seconds\n",
      "Epoch: 036/499 | Loss: 0.0001 | Episodes: 1 | Win count: 0 | Win rate: 0.000 | time: 195.5 seconds\n",
      "Epoch: 037/499 | Loss: 0.0000 | Episodes: 1 | Win count: 0 | Win rate: 0.000 | time: 199.6 seconds\n",
      "Epoch: 038/499 | Loss: 0.0006 | Episodes: 1 | Win count: 0 | Win rate: 0.000 | time: 206.1 seconds\n",
      "Epoch: 039/499 | Loss: 0.0006 | Episodes: 1 | Win count: 0 | Win rate: 0.000 | time: 211.8 seconds\n",
      "Epoch: 040/499 | Loss: 0.0023 | Episodes: 1 | Win count: 0 | Win rate: 0.000 | time: 217.8 seconds\n",
      "Epoch: 041/499 | Loss: 0.0018 | Episodes: 1 | Win count: 0 | Win rate: 0.000 | time: 224.2 seconds\n",
      "Epoch: 042/499 | Loss: 0.0228 | Episodes: 1 | Win count: 0 | Win rate: 0.000 | time: 229.7 seconds\n",
      "Epoch: 043/499 | Loss: 0.0017 | Episodes: 1 | Win count: 0 | Win rate: 0.000 | time: 235.8 seconds\n",
      "Epoch: 044/499 | Loss: 0.0012 | Episodes: 1 | Win count: 0 | Win rate: 0.000 | time: 237.4 seconds\n",
      "Epoch: 045/499 | Loss: 0.0016 | Episodes: 1 | Win count: 0 | Win rate: 0.000 | time: 242.3 seconds\n",
      "Epoch: 046/499 | Loss: 0.0012 | Episodes: 1 | Win count: 0 | Win rate: 0.000 | time: 246.9 seconds\n",
      "Epoch: 047/499 | Loss: 0.0002 | Episodes: 1 | Win count: 0 | Win rate: 0.000 | time: 251.6 seconds\n",
      "Epoch: 048/499 | Loss: 0.0011 | Episodes: 1 | Win count: 0 | Win rate: 0.000 | time: 256.0 seconds\n",
      "Epoch: 049/499 | Loss: 0.0017 | Episodes: 1 | Win count: 0 | Win rate: 0.000 | time: 258.8 seconds\n",
      "Epoch: 050/499 | Loss: 0.0017 | Episodes: 1 | Win count: 0 | Win rate: 0.000 | time: 262.7 seconds\n",
      "Epoch: 051/499 | Loss: 0.0012 | Episodes: 1 | Win count: 0 | Win rate: 0.000 | time: 266.9 seconds\n",
      "Epoch: 052/499 | Loss: 0.0006 | Episodes: 1 | Win count: 0 | Win rate: 0.000 | time: 271.0 seconds\n",
      "Epoch: 053/499 | Loss: 0.0008 | Episodes: 1 | Win count: 0 | Win rate: 0.000 | time: 276.0 seconds\n",
      "Epoch: 054/499 | Loss: 0.0007 | Episodes: 1 | Win count: 0 | Win rate: 0.000 | time: 276.2 seconds\n",
      "Epoch: 055/499 | Loss: 0.0013 | Episodes: 1 | Win count: 0 | Win rate: 0.000 | time: 280.8 seconds\n",
      "Epoch: 056/499 | Loss: 0.0016 | Episodes: 1 | Win count: 0 | Win rate: 0.000 | time: 285.2 seconds\n",
      "Epoch: 057/499 | Loss: 0.0020 | Episodes: 1 | Win count: 0 | Win rate: 0.000 | time: 289.6 seconds\n",
      "Epoch: 058/499 | Loss: 0.0002 | Episodes: 1 | Win count: 0 | Win rate: 0.000 | time: 293.8 seconds\n",
      "Epoch: 059/499 | Loss: 0.0007 | Episodes: 1 | Win count: 0 | Win rate: 0.000 | time: 294.4 seconds\n",
      "Epoch: 060/499 | Loss: 0.0000 | Episodes: 1 | Win count: 0 | Win rate: 0.000 | time: 294.7 seconds\n",
      "Epoch: 061/499 | Loss: 0.0011 | Episodes: 1 | Win count: 0 | Win rate: 0.000 | time: 299.5 seconds\n",
      "Epoch: 062/499 | Loss: 0.0019 | Episodes: 1 | Win count: 0 | Win rate: 0.000 | time: 303.3 seconds\n",
      "Epoch: 063/499 | Loss: 0.0012 | Episodes: 1 | Win count: 0 | Win rate: 0.000 | time: 308.0 seconds\n",
      "Epoch: 064/499 | Loss: 0.0023 | Episodes: 1 | Win count: 0 | Win rate: 0.000 | time: 312.2 seconds\n",
      "Epoch: 065/499 | Loss: 0.0011 | Episodes: 1 | Win count: 0 | Win rate: 0.000 | time: 316.6 seconds\n",
      "Epoch: 066/499 | Loss: 0.0019 | Episodes: 1 | Win count: 0 | Win rate: 0.000 | time: 320.5 seconds\n",
      "Epoch: 067/499 | Loss: 0.0013 | Episodes: 1 | Win count: 0 | Win rate: 0.000 | time: 325.3 seconds\n",
      "Epoch: 068/499 | Loss: 0.0012 | Episodes: 1 | Win count: 0 | Win rate: 0.000 | time: 329.9 seconds\n",
      "Epoch: 069/499 | Loss: 0.0011 | Episodes: 1 | Win count: 0 | Win rate: 0.000 | time: 333.6 seconds\n",
      "Epoch: 070/499 | Loss: 0.0015 | Episodes: 1 | Win count: 0 | Win rate: 0.000 | time: 338.3 seconds\n",
      "Epoch: 071/499 | Loss: 0.0014 | Episodes: 1 | Win count: 0 | Win rate: 0.000 | time: 342.6 seconds\n",
      "Epoch: 072/499 | Loss: 0.0007 | Episodes: 1 | Win count: 0 | Win rate: 0.000 | time: 346.9 seconds\n",
      "Epoch: 073/499 | Loss: 0.0007 | Episodes: 1 | Win count: 0 | Win rate: 0.000 | time: 349.7 seconds\n",
      "Epoch: 074/499 | Loss: 0.0008 | Episodes: 1 | Win count: 0 | Win rate: 0.000 | time: 352.2 seconds\n",
      "Epoch: 075/499 | Loss: 0.0246 | Episodes: 1 | Win count: 0 | Win rate: 0.000 | time: 355.1 seconds\n",
      "Epoch: 076/499 | Loss: 0.0006 | Episodes: 1 | Win count: 0 | Win rate: 0.000 | time: 356.5 seconds\n",
      "Epoch: 077/499 | Loss: 0.0016 | Episodes: 1 | Win count: 0 | Win rate: 0.000 | time: 360.6 seconds\n",
      "Epoch: 078/499 | Loss: 0.0022 | Episodes: 1 | Win count: 0 | Win rate: 0.000 | time: 361.0 seconds\n",
      "Epoch: 079/499 | Loss: 0.0013 | Episodes: 1 | Win count: 0 | Win rate: 0.000 | time: 365.0 seconds\n",
      "Epoch: 080/499 | Loss: 0.0014 | Episodes: 1 | Win count: 0 | Win rate: 0.000 | time: 369.1 seconds\n",
      "Epoch: 081/499 | Loss: 0.0014 | Episodes: 1 | Win count: 0 | Win rate: 0.000 | time: 369.2 seconds\n",
      "Epoch: 082/499 | Loss: 0.0001 | Episodes: 1 | Win count: 0 | Win rate: 0.000 | time: 373.2 seconds\n"
     ]
    },
    {
     "name": "stdout",
     "output_type": "stream",
     "text": [
      "Epoch: 083/499 | Loss: 0.0012 | Episodes: 1 | Win count: 0 | Win rate: 0.000 | time: 377.3 seconds\n",
      "Epoch: 084/499 | Loss: 0.0012 | Episodes: 1 | Win count: 0 | Win rate: 0.000 | time: 379.7 seconds\n",
      "Epoch: 085/499 | Loss: 0.0015 | Episodes: 1 | Win count: 0 | Win rate: 0.000 | time: 383.9 seconds\n",
      "Epoch: 086/499 | Loss: 0.0016 | Episodes: 1 | Win count: 0 | Win rate: 0.000 | time: 388.3 seconds\n",
      "Epoch: 087/499 | Loss: 0.0013 | Episodes: 1 | Win count: 0 | Win rate: 0.000 | time: 392.3 seconds\n",
      "Epoch: 088/499 | Loss: 0.0019 | Episodes: 1 | Win count: 0 | Win rate: 0.000 | time: 396.6 seconds\n",
      "Epoch: 089/499 | Loss: 0.0013 | Episodes: 1 | Win count: 0 | Win rate: 0.000 | time: 6.68 minutes\n",
      "Epoch: 090/499 | Loss: 0.0001 | Episodes: 1 | Win count: 0 | Win rate: 0.000 | time: 6.76 minutes\n",
      "Epoch: 091/499 | Loss: 0.0014 | Episodes: 1 | Win count: 0 | Win rate: 0.000 | time: 6.87 minutes\n",
      "Epoch: 092/499 | Loss: 0.0012 | Episodes: 1 | Win count: 0 | Win rate: 0.000 | time: 6.92 minutes\n",
      "Epoch: 093/499 | Loss: 0.0022 | Episodes: 1 | Win count: 0 | Win rate: 0.000 | time: 7.00 minutes\n",
      "Epoch: 094/499 | Loss: 0.0017 | Episodes: 1 | Win count: 0 | Win rate: 0.000 | time: 7.08 minutes\n",
      "Epoch: 095/499 | Loss: 0.0232 | Episodes: 1 | Win count: 0 | Win rate: 0.000 | time: 7.16 minutes\n",
      "Epoch: 096/499 | Loss: 0.0007 | Episodes: 1 | Win count: 0 | Win rate: 0.000 | time: 7.17 minutes\n",
      "Epoch: 097/499 | Loss: 0.0017 | Episodes: 1 | Win count: 0 | Win rate: 0.000 | time: 7.24 minutes\n",
      "Epoch: 098/499 | Loss: 0.0226 | Episodes: 1 | Win count: 0 | Win rate: 0.000 | time: 7.31 minutes\n",
      "Epoch: 099/499 | Loss: 0.0013 | Episodes: 1 | Win count: 0 | Win rate: 0.000 | time: 7.38 minutes\n",
      "Epoch: 100/499 | Loss: 0.0013 | Episodes: 1 | Win count: 0 | Win rate: 0.000 | time: 7.45 minutes\n",
      "Epoch: 101/499 | Loss: 0.0017 | Episodes: 1 | Win count: 0 | Win rate: 0.000 | time: 7.54 minutes\n",
      "Epoch: 102/499 | Loss: 0.0022 | Episodes: 1 | Win count: 0 | Win rate: 0.000 | time: 7.58 minutes\n",
      "Epoch: 103/499 | Loss: 0.0015 | Episodes: 1 | Win count: 0 | Win rate: 0.000 | time: 7.65 minutes\n",
      "Epoch: 104/499 | Loss: 0.0017 | Episodes: 1 | Win count: 0 | Win rate: 0.000 | time: 7.73 minutes\n",
      "Epoch: 105/499 | Loss: 0.0003 | Episodes: 1 | Win count: 0 | Win rate: 0.000 | time: 7.81 minutes\n",
      "Epoch: 106/499 | Loss: 0.0010 | Episodes: 1 | Win count: 0 | Win rate: 0.000 | time: 7.89 minutes\n",
      "Epoch: 107/499 | Loss: 0.0007 | Episodes: 1 | Win count: 0 | Win rate: 0.000 | time: 7.96 minutes\n",
      "Epoch: 108/499 | Loss: 0.0006 | Episodes: 1 | Win count: 0 | Win rate: 0.000 | time: 8.04 minutes\n",
      "Epoch: 109/499 | Loss: 0.0018 | Episodes: 1 | Win count: 0 | Win rate: 0.000 | time: 8.05 minutes\n",
      "Epoch: 110/499 | Loss: 0.0007 | Episodes: 1 | Win count: 0 | Win rate: 0.000 | time: 8.12 minutes\n",
      "Epoch: 111/499 | Loss: 0.0018 | Episodes: 1 | Win count: 0 | Win rate: 0.000 | time: 8.19 minutes\n",
      "Epoch: 112/499 | Loss: 0.0018 | Episodes: 1 | Win count: 0 | Win rate: 0.000 | time: 8.26 minutes\n",
      "Epoch: 113/499 | Loss: 0.0007 | Episodes: 1 | Win count: 0 | Win rate: 0.000 | time: 8.34 minutes\n",
      "Epoch: 114/499 | Loss: 0.0017 | Episodes: 1 | Win count: 0 | Win rate: 0.000 | time: 8.42 minutes\n",
      "Epoch: 115/499 | Loss: 0.0013 | Episodes: 1 | Win count: 0 | Win rate: 0.000 | time: 8.50 minutes\n",
      "Epoch: 116/499 | Loss: 0.0007 | Episodes: 1 | Win count: 0 | Win rate: 0.000 | time: 8.57 minutes\n",
      "Epoch: 117/499 | Loss: 0.0018 | Episodes: 1 | Win count: 0 | Win rate: 0.000 | time: 8.58 minutes\n",
      "Epoch: 118/499 | Loss: 0.0010 | Episodes: 1 | Win count: 0 | Win rate: 0.000 | time: 8.64 minutes\n",
      "Epoch: 119/499 | Loss: 0.0012 | Episodes: 1 | Win count: 0 | Win rate: 0.000 | time: 8.73 minutes\n",
      "Epoch: 120/499 | Loss: 0.0018 | Episodes: 1 | Win count: 0 | Win rate: 0.000 | time: 8.80 minutes\n",
      "Epoch: 121/499 | Loss: 0.0012 | Episodes: 1 | Win count: 0 | Win rate: 0.000 | time: 8.88 minutes\n",
      "Epoch: 122/499 | Loss: 0.0017 | Episodes: 1 | Win count: 0 | Win rate: 0.000 | time: 8.96 minutes\n",
      "Epoch: 123/499 | Loss: 0.0012 | Episodes: 1 | Win count: 0 | Win rate: 0.000 | time: 9.04 minutes\n",
      "Epoch: 124/499 | Loss: 0.0022 | Episodes: 1 | Win count: 0 | Win rate: 0.000 | time: 9.12 minutes\n",
      "Epoch: 125/499 | Loss: 0.0018 | Episodes: 1 | Win count: 0 | Win rate: 0.000 | time: 9.19 minutes\n",
      "Epoch: 126/499 | Loss: 0.0028 | Episodes: 1 | Win count: 0 | Win rate: 0.000 | time: 9.25 minutes\n",
      "Epoch: 127/499 | Loss: 0.0008 | Episodes: 1 | Win count: 0 | Win rate: 0.000 | time: 9.28 minutes\n",
      "Epoch: 128/499 | Loss: 0.0023 | Episodes: 1 | Win count: 0 | Win rate: 0.000 | time: 9.28 minutes\n",
      "Epoch: 129/499 | Loss: 0.0216 | Episodes: 1 | Win count: 0 | Win rate: 0.000 | time: 9.34 minutes\n",
      "Epoch: 130/499 | Loss: 0.0020 | Episodes: 1 | Win count: 0 | Win rate: 0.000 | time: 9.42 minutes\n",
      "Epoch: 131/499 | Loss: 0.0023 | Episodes: 1 | Win count: 0 | Win rate: 0.000 | time: 9.43 minutes\n",
      "Epoch: 132/499 | Loss: 0.0228 | Episodes: 1 | Win count: 0 | Win rate: 0.000 | time: 9.43 minutes\n",
      "Epoch: 133/499 | Loss: 0.0027 | Episodes: 1 | Win count: 0 | Win rate: 0.000 | time: 9.51 minutes\n",
      "Epoch: 134/499 | Loss: 0.0012 | Episodes: 1 | Win count: 0 | Win rate: 0.000 | time: 9.58 minutes\n",
      "Epoch: 135/499 | Loss: 0.0007 | Episodes: 1 | Win count: 0 | Win rate: 0.000 | time: 9.64 minutes\n",
      "Epoch: 136/499 | Loss: 0.0007 | Episodes: 1 | Win count: 0 | Win rate: 0.000 | time: 9.72 minutes\n",
      "Epoch: 137/499 | Loss: 0.0006 | Episodes: 1 | Win count: 0 | Win rate: 0.000 | time: 9.79 minutes\n",
      "Epoch: 138/499 | Loss: 0.0009 | Episodes: 1 | Win count: 0 | Win rate: 0.000 | time: 9.80 minutes\n",
      "Epoch: 139/499 | Loss: 0.0023 | Episodes: 1 | Win count: 0 | Win rate: 0.000 | time: 9.84 minutes\n",
      "Epoch: 140/499 | Loss: 0.0017 | Episodes: 1 | Win count: 0 | Win rate: 0.000 | time: 9.91 minutes\n",
      "Epoch: 141/499 | Loss: 0.0011 | Episodes: 1 | Win count: 0 | Win rate: 0.000 | time: 10.00 minutes\n",
      "Epoch: 142/499 | Loss: 0.0007 | Episodes: 1 | Win count: 0 | Win rate: 0.000 | time: 10.08 minutes\n",
      "Epoch: 143/499 | Loss: 0.0017 | Episodes: 1 | Win count: 0 | Win rate: 0.000 | time: 10.15 minutes\n",
      "Epoch: 144/499 | Loss: 0.0012 | Episodes: 1 | Win count: 0 | Win rate: 0.000 | time: 10.22 minutes\n",
      "Epoch: 145/499 | Loss: 0.0026 | Episodes: 1 | Win count: 0 | Win rate: 0.000 | time: 10.29 minutes\n",
      "Epoch: 146/499 | Loss: 0.0007 | Episodes: 1 | Win count: 0 | Win rate: 0.000 | time: 10.37 minutes\n",
      "Epoch: 147/499 | Loss: 0.0003 | Episodes: 1 | Win count: 0 | Win rate: 0.000 | time: 10.44 minutes\n",
      "Epoch: 148/499 | Loss: 0.0013 | Episodes: 1 | Win count: 0 | Win rate: 0.000 | time: 10.51 minutes\n",
      "Epoch: 149/499 | Loss: 0.0010 | Episodes: 1 | Win count: 0 | Win rate: 0.000 | time: 10.60 minutes\n",
      "Epoch: 150/499 | Loss: 0.0023 | Episodes: 1 | Win count: 0 | Win rate: 0.000 | time: 10.68 minutes\n",
      "Epoch: 151/499 | Loss: 0.0013 | Episodes: 1 | Win count: 0 | Win rate: 0.000 | time: 10.76 minutes\n",
      "Epoch: 152/499 | Loss: 0.0012 | Episodes: 1 | Win count: 0 | Win rate: 0.000 | time: 10.85 minutes\n",
      "Epoch: 153/499 | Loss: 0.0008 | Episodes: 1 | Win count: 0 | Win rate: 0.000 | time: 10.92 minutes\n",
      "Epoch: 154/499 | Loss: 0.0016 | Episodes: 1 | Win count: 0 | Win rate: 0.000 | time: 10.92 minutes\n",
      "Epoch: 155/499 | Loss: 0.0024 | Episodes: 1 | Win count: 0 | Win rate: 0.000 | time: 10.99 minutes\n",
      "Epoch: 156/499 | Loss: 0.0011 | Episodes: 1 | Win count: 0 | Win rate: 0.000 | time: 11.03 minutes\n",
      "Epoch: 157/499 | Loss: 0.0013 | Episodes: 1 | Win count: 0 | Win rate: 0.000 | time: 11.03 minutes\n",
      "Epoch: 158/499 | Loss: 0.0003 | Episodes: 1 | Win count: 0 | Win rate: 0.000 | time: 11.04 minutes\n",
      "Epoch: 159/499 | Loss: 0.0023 | Episodes: 1 | Win count: 0 | Win rate: 0.000 | time: 11.10 minutes\n",
      "Epoch: 160/499 | Loss: 0.0008 | Episodes: 1 | Win count: 0 | Win rate: 0.000 | time: 11.17 minutes\n",
      "Epoch: 161/499 | Loss: 0.0237 | Episodes: 1 | Win count: 0 | Win rate: 0.000 | time: 11.18 minutes\n",
      "Epoch: 162/499 | Loss: 0.0020 | Episodes: 1 | Win count: 0 | Win rate: 0.000 | time: 11.25 minutes\n",
      "Epoch: 163/499 | Loss: 0.0012 | Episodes: 1 | Win count: 0 | Win rate: 0.000 | time: 11.28 minutes\n",
      "Epoch: 164/499 | Loss: 0.0013 | Episodes: 1 | Win count: 0 | Win rate: 0.000 | time: 11.35 minutes\n",
      "Epoch: 165/499 | Loss: 0.0009 | Episodes: 1 | Win count: 0 | Win rate: 0.000 | time: 11.43 minutes\n",
      "Epoch: 166/499 | Loss: 0.0025 | Episodes: 1 | Win count: 0 | Win rate: 0.000 | time: 11.46 minutes\n"
     ]
    },
    {
     "name": "stdout",
     "output_type": "stream",
     "text": [
      "Epoch: 167/499 | Loss: 0.0020 | Episodes: 1 | Win count: 0 | Win rate: 0.000 | time: 11.51 minutes\n",
      "Epoch: 168/499 | Loss: 0.0008 | Episodes: 1 | Win count: 0 | Win rate: 0.000 | time: 11.58 minutes\n",
      "Epoch: 169/499 | Loss: 0.0019 | Episodes: 1 | Win count: 0 | Win rate: 0.000 | time: 11.65 minutes\n",
      "Epoch: 170/499 | Loss: 0.0006 | Episodes: 1 | Win count: 0 | Win rate: 0.000 | time: 11.74 minutes\n",
      "Epoch: 171/499 | Loss: 0.0012 | Episodes: 1 | Win count: 0 | Win rate: 0.000 | time: 11.76 minutes\n",
      "Epoch: 172/499 | Loss: 0.0018 | Episodes: 1 | Win count: 0 | Win rate: 0.000 | time: 11.84 minutes\n",
      "Epoch: 173/499 | Loss: 0.0007 | Episodes: 1 | Win count: 0 | Win rate: 0.000 | time: 11.91 minutes\n",
      "Epoch: 174/499 | Loss: 0.0013 | Episodes: 1 | Win count: 0 | Win rate: 0.000 | time: 11.99 minutes\n",
      "Epoch: 175/499 | Loss: 0.0012 | Episodes: 1 | Win count: 0 | Win rate: 0.000 | time: 12.07 minutes\n",
      "Epoch: 176/499 | Loss: 0.0012 | Episodes: 1 | Win count: 0 | Win rate: 0.000 | time: 12.07 minutes\n",
      "Epoch: 177/499 | Loss: 0.0014 | Episodes: 1 | Win count: 0 | Win rate: 0.000 | time: 12.15 minutes\n",
      "Epoch: 178/499 | Loss: 0.0015 | Episodes: 1 | Win count: 0 | Win rate: 0.000 | time: 12.23 minutes\n",
      "Epoch: 179/499 | Loss: 0.0019 | Episodes: 1 | Win count: 0 | Win rate: 0.000 | time: 12.24 minutes\n",
      "Epoch: 180/499 | Loss: 0.0016 | Episodes: 1 | Win count: 0 | Win rate: 0.000 | time: 12.33 minutes\n",
      "Epoch: 181/499 | Loss: 0.0010 | Episodes: 1 | Win count: 0 | Win rate: 0.000 | time: 12.42 minutes\n",
      "Epoch: 182/499 | Loss: 0.0011 | Episodes: 1 | Win count: 0 | Win rate: 0.000 | time: 12.50 minutes\n",
      "Epoch: 183/499 | Loss: 0.0007 | Episodes: 1 | Win count: 0 | Win rate: 0.000 | time: 12.51 minutes\n",
      "Epoch: 184/499 | Loss: 0.0224 | Episodes: 1 | Win count: 0 | Win rate: 0.000 | time: 12.51 minutes\n",
      "Epoch: 185/499 | Loss: 0.0010 | Episodes: 1 | Win count: 0 | Win rate: 0.000 | time: 12.52 minutes\n",
      "Epoch: 186/499 | Loss: 0.0230 | Episodes: 1 | Win count: 0 | Win rate: 0.000 | time: 12.60 minutes\n",
      "Epoch: 187/499 | Loss: 0.0020 | Episodes: 1 | Win count: 0 | Win rate: 0.000 | time: 12.61 minutes\n",
      "Epoch: 188/499 | Loss: 0.0019 | Episodes: 1 | Win count: 0 | Win rate: 0.000 | time: 12.66 minutes\n",
      "Epoch: 189/499 | Loss: 0.0013 | Episodes: 1 | Win count: 0 | Win rate: 0.000 | time: 12.74 minutes\n",
      "Epoch: 190/499 | Loss: 0.0226 | Episodes: 1 | Win count: 0 | Win rate: 0.000 | time: 12.75 minutes\n",
      "Epoch: 191/499 | Loss: 0.0002 | Episodes: 1 | Win count: 0 | Win rate: 0.000 | time: 12.83 minutes\n",
      "Epoch: 192/499 | Loss: 0.0008 | Episodes: 1 | Win count: 0 | Win rate: 0.000 | time: 12.92 minutes\n",
      "Epoch: 193/499 | Loss: 0.0002 | Episodes: 1 | Win count: 0 | Win rate: 0.000 | time: 13.00 minutes\n",
      "Epoch: 194/499 | Loss: 0.0013 | Episodes: 1 | Win count: 0 | Win rate: 0.000 | time: 13.09 minutes\n",
      "Epoch: 195/499 | Loss: 0.0002 | Episodes: 1 | Win count: 0 | Win rate: 0.000 | time: 13.17 minutes\n",
      "Epoch: 196/499 | Loss: 0.0007 | Episodes: 1 | Win count: 0 | Win rate: 0.000 | time: 13.26 minutes\n",
      "Epoch: 197/499 | Loss: 0.0001 | Episodes: 1 | Win count: 0 | Win rate: 0.000 | time: 13.33 minutes\n",
      "Epoch: 198/499 | Loss: 0.0008 | Episodes: 1 | Win count: 0 | Win rate: 0.000 | time: 13.41 minutes\n",
      "Epoch: 199/499 | Loss: 0.0007 | Episodes: 1 | Win count: 0 | Win rate: 0.000 | time: 13.48 minutes\n",
      "Epoch: 200/499 | Loss: 0.0009 | Episodes: 1 | Win count: 0 | Win rate: 0.000 | time: 13.57 minutes\n",
      "Epoch: 201/499 | Loss: 0.0007 | Episodes: 1 | Win count: 0 | Win rate: 0.000 | time: 13.64 minutes\n",
      "Epoch: 202/499 | Loss: 0.0007 | Episodes: 1 | Win count: 0 | Win rate: 0.000 | time: 13.69 minutes\n",
      "Epoch: 203/499 | Loss: 0.0005 | Episodes: 1 | Win count: 0 | Win rate: 0.000 | time: 13.78 minutes\n",
      "Epoch: 204/499 | Loss: 0.0016 | Episodes: 1 | Win count: 0 | Win rate: 0.000 | time: 13.78 minutes\n",
      "Epoch: 205/499 | Loss: 0.0232 | Episodes: 1 | Win count: 0 | Win rate: 0.000 | time: 13.86 minutes\n",
      "Epoch: 206/499 | Loss: 0.0015 | Episodes: 1 | Win count: 0 | Win rate: 0.000 | time: 13.87 minutes\n",
      "Epoch: 207/499 | Loss: 0.0001 | Episodes: 1 | Win count: 0 | Win rate: 0.000 | time: 13.95 minutes\n",
      "Epoch: 208/499 | Loss: 0.0012 | Episodes: 1 | Win count: 0 | Win rate: 0.000 | time: 14.03 minutes\n",
      "Epoch: 209/499 | Loss: 0.0012 | Episodes: 1 | Win count: 0 | Win rate: 0.000 | time: 14.13 minutes\n",
      "Epoch: 210/499 | Loss: 0.0011 | Episodes: 1 | Win count: 0 | Win rate: 0.000 | time: 14.22 minutes\n",
      "Epoch: 211/499 | Loss: 0.0003 | Episodes: 1 | Win count: 0 | Win rate: 0.000 | time: 14.30 minutes\n",
      "Epoch: 212/499 | Loss: 0.0018 | Episodes: 1 | Win count: 0 | Win rate: 0.000 | time: 14.38 minutes\n",
      "Epoch: 213/499 | Loss: 0.0011 | Episodes: 1 | Win count: 0 | Win rate: 0.000 | time: 14.46 minutes\n",
      "Epoch: 214/499 | Loss: 0.0012 | Episodes: 1 | Win count: 0 | Win rate: 0.000 | time: 14.53 minutes\n",
      "Epoch: 215/499 | Loss: 0.0017 | Episodes: 1 | Win count: 0 | Win rate: 0.000 | time: 14.62 minutes\n",
      "Epoch: 216/499 | Loss: 0.0006 | Episodes: 1 | Win count: 0 | Win rate: 0.000 | time: 14.70 minutes\n",
      "Epoch: 217/499 | Loss: 0.0011 | Episodes: 1 | Win count: 0 | Win rate: 0.000 | time: 14.79 minutes\n",
      "Epoch: 218/499 | Loss: 0.0018 | Episodes: 1 | Win count: 0 | Win rate: 0.000 | time: 14.88 minutes\n",
      "Epoch: 219/499 | Loss: 0.0013 | Episodes: 1 | Win count: 0 | Win rate: 0.000 | time: 14.96 minutes\n",
      "Epoch: 220/499 | Loss: 0.0030 | Episodes: 1 | Win count: 0 | Win rate: 0.000 | time: 15.01 minutes\n",
      "Epoch: 221/499 | Loss: 0.0238 | Episodes: 1 | Win count: 0 | Win rate: 0.000 | time: 15.09 minutes\n",
      "Epoch: 222/499 | Loss: 0.0026 | Episodes: 1 | Win count: 0 | Win rate: 0.000 | time: 15.17 minutes\n",
      "Epoch: 223/499 | Loss: 0.0015 | Episodes: 1 | Win count: 0 | Win rate: 0.000 | time: 15.25 minutes\n",
      "Epoch: 224/499 | Loss: 0.0019 | Episodes: 1 | Win count: 0 | Win rate: 0.000 | time: 15.32 minutes\n",
      "Epoch: 225/499 | Loss: 0.0012 | Episodes: 1 | Win count: 0 | Win rate: 0.000 | time: 15.36 minutes\n",
      "Epoch: 226/499 | Loss: 0.0020 | Episodes: 1 | Win count: 0 | Win rate: 0.000 | time: 15.45 minutes\n",
      "Epoch: 227/499 | Loss: 0.0220 | Episodes: 1 | Win count: 0 | Win rate: 0.000 | time: 15.50 minutes\n",
      "Epoch: 228/499 | Loss: 0.0011 | Episodes: 1 | Win count: 0 | Win rate: 0.000 | time: 15.58 minutes\n",
      "Epoch: 229/499 | Loss: 0.0003 | Episodes: 1 | Win count: 0 | Win rate: 0.000 | time: 15.66 minutes\n",
      "Epoch: 230/499 | Loss: 0.0006 | Episodes: 1 | Win count: 0 | Win rate: 0.000 | time: 15.74 minutes\n",
      "Epoch: 231/499 | Loss: 0.0017 | Episodes: 1 | Win count: 0 | Win rate: 0.000 | time: 15.81 minutes\n",
      "Epoch: 232/499 | Loss: 0.0016 | Episodes: 1 | Win count: 0 | Win rate: 0.000 | time: 15.89 minutes\n",
      "Epoch: 233/499 | Loss: 0.0019 | Episodes: 1 | Win count: 0 | Win rate: 0.000 | time: 15.96 minutes\n",
      "Epoch: 234/499 | Loss: 0.0014 | Episodes: 1 | Win count: 0 | Win rate: 0.000 | time: 16.04 minutes\n",
      "Epoch: 235/499 | Loss: 0.0018 | Episodes: 1 | Win count: 0 | Win rate: 0.000 | time: 16.11 minutes\n",
      "Epoch: 236/499 | Loss: 0.0011 | Episodes: 1 | Win count: 0 | Win rate: 0.000 | time: 16.19 minutes\n",
      "Epoch: 237/499 | Loss: 0.0019 | Episodes: 1 | Win count: 0 | Win rate: 0.000 | time: 16.27 minutes\n",
      "Epoch: 238/499 | Loss: 0.0012 | Episodes: 1 | Win count: 0 | Win rate: 0.000 | time: 16.34 minutes\n",
      "Epoch: 239/499 | Loss: 0.0007 | Episodes: 1 | Win count: 0 | Win rate: 0.000 | time: 16.41 minutes\n",
      "Epoch: 240/499 | Loss: 0.0018 | Episodes: 1 | Win count: 0 | Win rate: 0.000 | time: 16.48 minutes\n",
      "Epoch: 241/499 | Loss: 0.0022 | Episodes: 1 | Win count: 0 | Win rate: 0.000 | time: 16.55 minutes\n",
      "Epoch: 242/499 | Loss: 0.0034 | Episodes: 1 | Win count: 0 | Win rate: 0.000 | time: 16.62 minutes\n",
      "Epoch: 243/499 | Loss: 0.0011 | Episodes: 1 | Win count: 0 | Win rate: 0.000 | time: 16.70 minutes\n",
      "Epoch: 244/499 | Loss: 0.0008 | Episodes: 1 | Win count: 0 | Win rate: 0.000 | time: 16.79 minutes\n",
      "Epoch: 245/499 | Loss: 0.0002 | Episodes: 1 | Win count: 0 | Win rate: 0.000 | time: 16.87 minutes\n",
      "Epoch: 246/499 | Loss: 0.0007 | Episodes: 1 | Win count: 0 | Win rate: 0.000 | time: 16.95 minutes\n",
      "Epoch: 247/499 | Loss: 0.0000 | Episodes: 1 | Win count: 0 | Win rate: 0.000 | time: 17.02 minutes\n",
      "Epoch: 248/499 | Loss: 0.0007 | Episodes: 1 | Win count: 0 | Win rate: 0.000 | time: 17.08 minutes\n",
      "Epoch: 249/499 | Loss: 0.0011 | Episodes: 1 | Win count: 0 | Win rate: 0.000 | time: 17.11 minutes\n"
     ]
    },
    {
     "name": "stdout",
     "output_type": "stream",
     "text": [
      "Epoch: 250/499 | Loss: 0.0232 | Episodes: 1 | Win count: 0 | Win rate: 0.000 | time: 17.12 minutes\n",
      "Epoch: 251/499 | Loss: 0.0001 | Episodes: 1 | Win count: 0 | Win rate: 0.000 | time: 17.20 minutes\n",
      "Epoch: 252/499 | Loss: 0.0003 | Episodes: 1 | Win count: 0 | Win rate: 0.000 | time: 17.26 minutes\n",
      "Epoch: 253/499 | Loss: 0.0026 | Episodes: 1 | Win count: 0 | Win rate: 0.000 | time: 17.26 minutes\n",
      "Epoch: 254/499 | Loss: 0.0018 | Episodes: 1 | Win count: 0 | Win rate: 0.000 | time: 17.33 minutes\n",
      "Epoch: 255/499 | Loss: 0.0010 | Episodes: 1 | Win count: 0 | Win rate: 0.000 | time: 17.40 minutes\n",
      "Epoch: 256/499 | Loss: 0.0007 | Episodes: 1 | Win count: 0 | Win rate: 0.000 | time: 17.49 minutes\n",
      "Epoch: 257/499 | Loss: 0.0006 | Episodes: 1 | Win count: 0 | Win rate: 0.000 | time: 17.57 minutes\n",
      "Epoch: 258/499 | Loss: 0.0018 | Episodes: 1 | Win count: 0 | Win rate: 0.000 | time: 17.64 minutes\n",
      "Epoch: 259/499 | Loss: 0.0017 | Episodes: 1 | Win count: 0 | Win rate: 0.000 | time: 17.71 minutes\n",
      "Epoch: 260/499 | Loss: 0.0020 | Episodes: 1 | Win count: 0 | Win rate: 0.000 | time: 17.78 minutes\n",
      "Epoch: 261/499 | Loss: 0.0010 | Episodes: 1 | Win count: 0 | Win rate: 0.000 | time: 17.86 minutes\n",
      "Epoch: 262/499 | Loss: 0.0005 | Episodes: 1 | Win count: 0 | Win rate: 0.000 | time: 17.94 minutes\n",
      "Epoch: 263/499 | Loss: 0.0021 | Episodes: 1 | Win count: 0 | Win rate: 0.000 | time: 17.98 minutes\n",
      "Epoch: 264/499 | Loss: 0.0017 | Episodes: 1 | Win count: 0 | Win rate: 0.000 | time: 18.07 minutes\n",
      "Epoch: 265/499 | Loss: 0.0021 | Episodes: 1 | Win count: 0 | Win rate: 0.000 | time: 18.14 minutes\n",
      "Epoch: 266/499 | Loss: 0.0008 | Episodes: 1 | Win count: 0 | Win rate: 0.000 | time: 18.22 minutes\n",
      "Epoch: 267/499 | Loss: 0.0012 | Episodes: 1 | Win count: 0 | Win rate: 0.000 | time: 18.30 minutes\n",
      "Epoch: 268/499 | Loss: 0.0006 | Episodes: 1 | Win count: 0 | Win rate: 0.000 | time: 18.38 minutes\n",
      "Epoch: 269/499 | Loss: 0.0001 | Episodes: 1 | Win count: 0 | Win rate: 0.000 | time: 18.47 minutes\n",
      "Epoch: 270/499 | Loss: 0.0011 | Episodes: 1 | Win count: 0 | Win rate: 0.000 | time: 18.53 minutes\n",
      "Epoch: 271/499 | Loss: 0.0010 | Episodes: 1 | Win count: 0 | Win rate: 0.000 | time: 18.61 minutes\n",
      "Epoch: 272/499 | Loss: 0.0008 | Episodes: 1 | Win count: 0 | Win rate: 0.000 | time: 18.69 minutes\n",
      "Epoch: 273/499 | Loss: 0.0013 | Episodes: 1 | Win count: 0 | Win rate: 0.000 | time: 18.69 minutes\n",
      "Epoch: 274/499 | Loss: 0.0005 | Episodes: 1 | Win count: 0 | Win rate: 0.000 | time: 18.77 minutes\n",
      "Epoch: 275/499 | Loss: 0.0006 | Episodes: 1 | Win count: 0 | Win rate: 0.000 | time: 18.86 minutes\n",
      "Epoch: 276/499 | Loss: 0.0013 | Episodes: 1 | Win count: 0 | Win rate: 0.000 | time: 18.95 minutes\n",
      "Epoch: 277/499 | Loss: 0.0024 | Episodes: 1 | Win count: 0 | Win rate: 0.000 | time: 19.03 minutes\n",
      "Epoch: 278/499 | Loss: 0.0010 | Episodes: 1 | Win count: 0 | Win rate: 0.000 | time: 19.10 minutes\n",
      "Epoch: 279/499 | Loss: 0.0017 | Episodes: 1 | Win count: 0 | Win rate: 0.000 | time: 19.19 minutes\n",
      "Epoch: 280/499 | Loss: 0.0013 | Episodes: 1 | Win count: 0 | Win rate: 0.000 | time: 19.22 minutes\n",
      "Epoch: 281/499 | Loss: 0.0019 | Episodes: 1 | Win count: 0 | Win rate: 0.000 | time: 19.30 minutes\n",
      "Epoch: 282/499 | Loss: 0.0006 | Episodes: 1 | Win count: 0 | Win rate: 0.000 | time: 19.38 minutes\n",
      "Epoch: 283/499 | Loss: 0.0018 | Episodes: 1 | Win count: 0 | Win rate: 0.000 | time: 19.38 minutes\n",
      "Epoch: 284/499 | Loss: 0.0017 | Episodes: 1 | Win count: 0 | Win rate: 0.000 | time: 19.46 minutes\n",
      "Epoch: 285/499 | Loss: 0.0232 | Episodes: 1 | Win count: 0 | Win rate: 0.000 | time: 19.46 minutes\n",
      "Epoch: 286/499 | Loss: 0.0006 | Episodes: 1 | Win count: 0 | Win rate: 0.000 | time: 19.55 minutes\n",
      "Epoch: 287/499 | Loss: 0.0205 | Episodes: 1 | Win count: 0 | Win rate: 0.000 | time: 19.62 minutes\n",
      "Epoch: 288/499 | Loss: 0.0029 | Episodes: 1 | Win count: 0 | Win rate: 0.000 | time: 19.62 minutes\n",
      "Epoch: 289/499 | Loss: 0.0231 | Episodes: 1 | Win count: 0 | Win rate: 0.000 | time: 19.65 minutes\n",
      "Epoch: 290/499 | Loss: 0.0012 | Episodes: 1 | Win count: 0 | Win rate: 0.000 | time: 19.73 minutes\n",
      "Epoch: 291/499 | Loss: 0.0013 | Episodes: 1 | Win count: 0 | Win rate: 0.000 | time: 19.76 minutes\n",
      "Epoch: 292/499 | Loss: 0.0003 | Episodes: 1 | Win count: 0 | Win rate: 0.000 | time: 19.82 minutes\n",
      "Epoch: 293/499 | Loss: 0.0007 | Episodes: 1 | Win count: 0 | Win rate: 0.000 | time: 19.90 minutes\n",
      "Epoch: 294/499 | Loss: 0.0001 | Episodes: 1 | Win count: 0 | Win rate: 0.000 | time: 19.98 minutes\n",
      "Epoch: 295/499 | Loss: 0.0026 | Episodes: 1 | Win count: 0 | Win rate: 0.000 | time: 20.05 minutes\n",
      "Epoch: 296/499 | Loss: 0.0001 | Episodes: 1 | Win count: 0 | Win rate: 0.000 | time: 20.14 minutes\n",
      "Epoch: 297/499 | Loss: 0.0007 | Episodes: 1 | Win count: 0 | Win rate: 0.000 | time: 20.22 minutes\n",
      "Epoch: 298/499 | Loss: 0.0009 | Episodes: 1 | Win count: 0 | Win rate: 0.000 | time: 20.30 minutes\n",
      "Epoch: 299/499 | Loss: 0.0010 | Episodes: 1 | Win count: 0 | Win rate: 0.000 | time: 20.37 minutes\n",
      "Epoch: 300/499 | Loss: 0.0006 | Episodes: 1 | Win count: 0 | Win rate: 0.000 | time: 20.37 minutes\n",
      "Epoch: 301/499 | Loss: 0.0001 | Episodes: 1 | Win count: 0 | Win rate: 0.000 | time: 20.41 minutes\n",
      "Epoch: 302/499 | Loss: 0.0021 | Episodes: 1 | Win count: 0 | Win rate: 0.000 | time: 20.43 minutes\n",
      "Epoch: 303/499 | Loss: 0.0011 | Episodes: 1 | Win count: 0 | Win rate: 0.000 | time: 20.49 minutes\n",
      "Epoch: 304/499 | Loss: 0.0016 | Episodes: 1 | Win count: 0 | Win rate: 0.000 | time: 20.57 minutes\n",
      "Epoch: 305/499 | Loss: 0.0001 | Episodes: 1 | Win count: 0 | Win rate: 0.000 | time: 20.64 minutes\n",
      "Epoch: 306/499 | Loss: 0.0017 | Episodes: 1 | Win count: 0 | Win rate: 0.000 | time: 20.68 minutes\n",
      "Epoch: 307/499 | Loss: 0.0008 | Episodes: 1 | Win count: 0 | Win rate: 0.000 | time: 20.76 minutes\n",
      "Epoch: 308/499 | Loss: 0.0036 | Episodes: 1 | Win count: 0 | Win rate: 0.000 | time: 20.83 minutes\n",
      "Epoch: 309/499 | Loss: 0.0012 | Episodes: 1 | Win count: 0 | Win rate: 0.000 | time: 20.90 minutes\n",
      "Epoch: 310/499 | Loss: 0.0005 | Episodes: 1 | Win count: 0 | Win rate: 0.000 | time: 20.97 minutes\n",
      "Epoch: 311/499 | Loss: 0.0002 | Episodes: 1 | Win count: 0 | Win rate: 0.000 | time: 21.04 minutes\n",
      "Epoch: 312/499 | Loss: 0.0006 | Episodes: 1 | Win count: 0 | Win rate: 0.000 | time: 21.10 minutes\n",
      "Epoch: 313/499 | Loss: 0.0008 | Episodes: 1 | Win count: 0 | Win rate: 0.000 | time: 21.16 minutes\n",
      "Epoch: 314/499 | Loss: 0.0013 | Episodes: 1 | Win count: 0 | Win rate: 0.000 | time: 21.16 minutes\n",
      "Epoch: 315/499 | Loss: 0.0016 | Episodes: 1 | Win count: 0 | Win rate: 0.000 | time: 21.19 minutes\n",
      "Epoch: 316/499 | Loss: 0.0007 | Episodes: 1 | Win count: 0 | Win rate: 0.000 | time: 21.26 minutes\n",
      "Epoch: 317/499 | Loss: 0.0013 | Episodes: 1 | Win count: 0 | Win rate: 0.000 | time: 21.30 minutes\n",
      "Epoch: 318/499 | Loss: 0.0007 | Episodes: 1 | Win count: 0 | Win rate: 0.000 | time: 21.38 minutes\n",
      "Epoch: 319/499 | Loss: 0.0012 | Episodes: 1 | Win count: 0 | Win rate: 0.000 | time: 21.45 minutes\n",
      "Epoch: 320/499 | Loss: 0.0022 | Episodes: 1 | Win count: 0 | Win rate: 0.000 | time: 21.52 minutes\n",
      "Epoch: 321/499 | Loss: 0.0019 | Episodes: 1 | Win count: 0 | Win rate: 0.000 | time: 21.58 minutes\n",
      "Epoch: 322/499 | Loss: 0.0018 | Episodes: 1 | Win count: 0 | Win rate: 0.000 | time: 21.59 minutes\n",
      "Epoch: 323/499 | Loss: 0.0022 | Episodes: 1 | Win count: 0 | Win rate: 0.000 | time: 21.67 minutes\n",
      "Epoch: 324/499 | Loss: 0.0016 | Episodes: 1 | Win count: 0 | Win rate: 0.000 | time: 21.67 minutes\n",
      "Epoch: 325/499 | Loss: 0.0008 | Episodes: 1 | Win count: 0 | Win rate: 0.000 | time: 21.74 minutes\n",
      "Epoch: 326/499 | Loss: 0.0233 | Episodes: 1 | Win count: 0 | Win rate: 0.000 | time: 21.82 minutes\n",
      "Epoch: 327/499 | Loss: 0.0018 | Episodes: 1 | Win count: 0 | Win rate: 0.000 | time: 21.90 minutes\n",
      "Epoch: 328/499 | Loss: 0.0010 | Episodes: 1 | Win count: 0 | Win rate: 0.000 | time: 21.99 minutes\n",
      "Epoch: 329/499 | Loss: 0.0017 | Episodes: 1 | Win count: 0 | Win rate: 0.000 | time: 22.05 minutes\n",
      "Epoch: 330/499 | Loss: 0.0021 | Episodes: 1 | Win count: 0 | Win rate: 0.000 | time: 22.11 minutes\n",
      "Epoch: 331/499 | Loss: 0.0016 | Episodes: 1 | Win count: 0 | Win rate: 0.000 | time: 22.18 minutes\n",
      "Epoch: 332/499 | Loss: 0.0017 | Episodes: 1 | Win count: 0 | Win rate: 0.000 | time: 22.26 minutes\n"
     ]
    },
    {
     "name": "stdout",
     "output_type": "stream",
     "text": [
      "Epoch: 333/499 | Loss: 0.0012 | Episodes: 1 | Win count: 0 | Win rate: 0.000 | time: 22.33 minutes\n",
      "Epoch: 334/499 | Loss: 0.0013 | Episodes: 1 | Win count: 0 | Win rate: 0.000 | time: 22.40 minutes\n",
      "Epoch: 335/499 | Loss: 0.0006 | Episodes: 1 | Win count: 0 | Win rate: 0.000 | time: 22.47 minutes\n",
      "Epoch: 336/499 | Loss: 0.0029 | Episodes: 1 | Win count: 0 | Win rate: 0.000 | time: 22.55 minutes\n",
      "Epoch: 337/499 | Loss: 0.0018 | Episodes: 1 | Win count: 0 | Win rate: 0.000 | time: 22.63 minutes\n",
      "Epoch: 338/499 | Loss: 0.0008 | Episodes: 1 | Win count: 0 | Win rate: 0.000 | time: 22.64 minutes\n",
      "Epoch: 339/499 | Loss: 0.0012 | Episodes: 1 | Win count: 0 | Win rate: 0.000 | time: 22.72 minutes\n",
      "Epoch: 340/499 | Loss: 0.0238 | Episodes: 1 | Win count: 0 | Win rate: 0.000 | time: 22.80 minutes\n",
      "Epoch: 341/499 | Loss: 0.0011 | Episodes: 1 | Win count: 0 | Win rate: 0.000 | time: 22.81 minutes\n",
      "Epoch: 342/499 | Loss: 0.0023 | Episodes: 1 | Win count: 0 | Win rate: 0.000 | time: 22.88 minutes\n",
      "Epoch: 343/499 | Loss: 0.0007 | Episodes: 1 | Win count: 0 | Win rate: 0.000 | time: 22.95 minutes\n",
      "Epoch: 344/499 | Loss: 0.0024 | Episodes: 1 | Win count: 0 | Win rate: 0.000 | time: 23.03 minutes\n",
      "Epoch: 345/499 | Loss: 0.0225 | Episodes: 1 | Win count: 0 | Win rate: 0.000 | time: 23.04 minutes\n",
      "Epoch: 346/499 | Loss: 0.0016 | Episodes: 1 | Win count: 0 | Win rate: 0.000 | time: 23.06 minutes\n",
      "Epoch: 347/499 | Loss: 0.0015 | Episodes: 1 | Win count: 0 | Win rate: 0.000 | time: 23.15 minutes\n",
      "Epoch: 348/499 | Loss: 0.0023 | Episodes: 1 | Win count: 0 | Win rate: 0.000 | time: 23.20 minutes\n",
      "Epoch: 349/499 | Loss: 0.0010 | Episodes: 1 | Win count: 0 | Win rate: 0.000 | time: 23.30 minutes\n",
      "Epoch: 350/499 | Loss: 0.0013 | Episodes: 1 | Win count: 0 | Win rate: 0.000 | time: 23.38 minutes\n",
      "Epoch: 351/499 | Loss: 0.0021 | Episodes: 1 | Win count: 0 | Win rate: 0.000 | time: 23.46 minutes\n",
      "Epoch: 352/499 | Loss: 0.0017 | Episodes: 1 | Win count: 0 | Win rate: 0.000 | time: 23.46 minutes\n",
      "Epoch: 353/499 | Loss: 0.0210 | Episodes: 1 | Win count: 0 | Win rate: 0.000 | time: 23.54 minutes\n",
      "Epoch: 354/499 | Loss: 0.0001 | Episodes: 1 | Win count: 0 | Win rate: 0.000 | time: 23.60 minutes\n",
      "Epoch: 355/499 | Loss: 0.0001 | Episodes: 1 | Win count: 0 | Win rate: 0.000 | time: 23.68 minutes\n",
      "Epoch: 356/499 | Loss: 0.0003 | Episodes: 1 | Win count: 0 | Win rate: 0.000 | time: 23.77 minutes\n",
      "Epoch: 357/499 | Loss: 0.0007 | Episodes: 1 | Win count: 0 | Win rate: 0.000 | time: 23.85 minutes\n",
      "Epoch: 358/499 | Loss: 0.0015 | Episodes: 1 | Win count: 0 | Win rate: 0.000 | time: 23.92 minutes\n",
      "Epoch: 359/499 | Loss: 0.0008 | Episodes: 1 | Win count: 0 | Win rate: 0.000 | time: 24.00 minutes\n",
      "Epoch: 360/499 | Loss: 0.0029 | Episodes: 1 | Win count: 0 | Win rate: 0.000 | time: 24.08 minutes\n",
      "Epoch: 361/499 | Loss: 0.0024 | Episodes: 1 | Win count: 0 | Win rate: 0.000 | time: 24.15 minutes\n",
      "Epoch: 362/499 | Loss: 0.0014 | Episodes: 1 | Win count: 0 | Win rate: 0.000 | time: 24.24 minutes\n",
      "Epoch: 363/499 | Loss: 0.0000 | Episodes: 1 | Win count: 0 | Win rate: 0.000 | time: 24.31 minutes\n",
      "Epoch: 364/499 | Loss: 0.0001 | Episodes: 1 | Win count: 0 | Win rate: 0.000 | time: 24.39 minutes\n",
      "Epoch: 365/499 | Loss: 0.0013 | Episodes: 1 | Win count: 0 | Win rate: 0.000 | time: 24.39 minutes\n",
      "Epoch: 366/499 | Loss: 0.0013 | Episodes: 1 | Win count: 0 | Win rate: 0.000 | time: 24.47 minutes\n",
      "Epoch: 367/499 | Loss: 0.0021 | Episodes: 1 | Win count: 0 | Win rate: 0.000 | time: 24.51 minutes\n",
      "Epoch: 368/499 | Loss: 0.0227 | Episodes: 1 | Win count: 0 | Win rate: 0.000 | time: 24.54 minutes\n",
      "Epoch: 369/499 | Loss: 0.0013 | Episodes: 1 | Win count: 0 | Win rate: 0.000 | time: 24.62 minutes\n",
      "Epoch: 370/499 | Loss: 0.0007 | Episodes: 1 | Win count: 0 | Win rate: 0.000 | time: 24.71 minutes\n",
      "Epoch: 371/499 | Loss: 0.0006 | Episodes: 1 | Win count: 0 | Win rate: 0.000 | time: 24.72 minutes\n",
      "Epoch: 372/499 | Loss: 0.0013 | Episodes: 1 | Win count: 0 | Win rate: 0.000 | time: 24.72 minutes\n",
      "Epoch: 373/499 | Loss: 0.0023 | Episodes: 1 | Win count: 0 | Win rate: 0.000 | time: 24.80 minutes\n",
      "Epoch: 374/499 | Loss: 0.0005 | Episodes: 1 | Win count: 0 | Win rate: 0.000 | time: 24.80 minutes\n",
      "Epoch: 375/499 | Loss: 0.0229 | Episodes: 1 | Win count: 0 | Win rate: 0.000 | time: 24.83 minutes\n",
      "Epoch: 376/499 | Loss: 0.0012 | Episodes: 1 | Win count: 0 | Win rate: 0.000 | time: 24.87 minutes\n",
      "Epoch: 377/499 | Loss: 0.0006 | Episodes: 1 | Win count: 0 | Win rate: 0.000 | time: 24.95 minutes\n",
      "Epoch: 378/499 | Loss: 0.0212 | Episodes: 1 | Win count: 0 | Win rate: 0.000 | time: 25.00 minutes\n",
      "Epoch: 379/499 | Loss: 0.0031 | Episodes: 1 | Win count: 0 | Win rate: 0.000 | time: 25.00 minutes\n",
      "Epoch: 380/499 | Loss: 0.0003 | Episodes: 1 | Win count: 0 | Win rate: 0.000 | time: 25.01 minutes\n",
      "Epoch: 381/499 | Loss: 0.0008 | Episodes: 1 | Win count: 0 | Win rate: 0.000 | time: 25.09 minutes\n",
      "Epoch: 382/499 | Loss: 0.0020 | Episodes: 1 | Win count: 0 | Win rate: 0.000 | time: 25.15 minutes\n",
      "Epoch: 383/499 | Loss: 0.0009 | Episodes: 1 | Win count: 0 | Win rate: 0.000 | time: 25.15 minutes\n",
      "Epoch: 384/499 | Loss: 0.0007 | Episodes: 1 | Win count: 0 | Win rate: 0.000 | time: 25.23 minutes\n",
      "Epoch: 385/499 | Loss: 0.0007 | Episodes: 1 | Win count: 0 | Win rate: 0.000 | time: 25.30 minutes\n",
      "Epoch: 386/499 | Loss: 0.0021 | Episodes: 1 | Win count: 0 | Win rate: 0.000 | time: 25.38 minutes\n",
      "Epoch: 387/499 | Loss: 0.0017 | Episodes: 1 | Win count: 0 | Win rate: 0.000 | time: 25.45 minutes\n",
      "Epoch: 388/499 | Loss: 0.0015 | Episodes: 1 | Win count: 0 | Win rate: 0.000 | time: 25.52 minutes\n",
      "Epoch: 389/499 | Loss: 0.0003 | Episodes: 1 | Win count: 0 | Win rate: 0.000 | time: 25.60 minutes\n",
      "Epoch: 390/499 | Loss: 0.0017 | Episodes: 1 | Win count: 0 | Win rate: 0.000 | time: 25.67 minutes\n",
      "Epoch: 391/499 | Loss: 0.0013 | Episodes: 1 | Win count: 0 | Win rate: 0.000 | time: 25.75 minutes\n",
      "Epoch: 392/499 | Loss: 0.0028 | Episodes: 1 | Win count: 0 | Win rate: 0.000 | time: 25.82 minutes\n",
      "Epoch: 393/499 | Loss: 0.0013 | Episodes: 1 | Win count: 0 | Win rate: 0.000 | time: 25.90 minutes\n",
      "Epoch: 394/499 | Loss: 0.0011 | Episodes: 1 | Win count: 0 | Win rate: 0.000 | time: 25.97 minutes\n",
      "Epoch: 395/499 | Loss: 0.0016 | Episodes: 1 | Win count: 0 | Win rate: 0.000 | time: 26.05 minutes\n",
      "Epoch: 396/499 | Loss: 0.0018 | Episodes: 1 | Win count: 0 | Win rate: 0.000 | time: 26.12 minutes\n",
      "Epoch: 397/499 | Loss: 0.0008 | Episodes: 1 | Win count: 0 | Win rate: 0.000 | time: 26.19 minutes\n",
      "Epoch: 398/499 | Loss: 0.0020 | Episodes: 1 | Win count: 0 | Win rate: 0.000 | time: 26.20 minutes\n",
      "Epoch: 399/499 | Loss: 0.0023 | Episodes: 1 | Win count: 0 | Win rate: 0.000 | time: 26.23 minutes\n",
      "Epoch: 400/499 | Loss: 0.0012 | Episodes: 1 | Win count: 0 | Win rate: 0.000 | time: 26.31 minutes\n",
      "Epoch: 401/499 | Loss: 0.0007 | Episodes: 1 | Win count: 0 | Win rate: 0.000 | time: 26.39 minutes\n",
      "Epoch: 402/499 | Loss: 0.0018 | Episodes: 1 | Win count: 0 | Win rate: 0.000 | time: 26.47 minutes\n",
      "Epoch: 403/499 | Loss: 0.0007 | Episodes: 1 | Win count: 0 | Win rate: 0.000 | time: 26.55 minutes\n",
      "Epoch: 404/499 | Loss: 0.0007 | Episodes: 1 | Win count: 0 | Win rate: 0.000 | time: 26.62 minutes\n",
      "Epoch: 405/499 | Loss: 0.0007 | Episodes: 1 | Win count: 0 | Win rate: 0.000 | time: 26.69 minutes\n",
      "Epoch: 406/499 | Loss: 0.0019 | Episodes: 1 | Win count: 0 | Win rate: 0.000 | time: 26.78 minutes\n",
      "Epoch: 407/499 | Loss: 0.0027 | Episodes: 1 | Win count: 0 | Win rate: 0.000 | time: 26.86 minutes\n",
      "Epoch: 408/499 | Loss: 0.0013 | Episodes: 1 | Win count: 0 | Win rate: 0.000 | time: 26.95 minutes\n",
      "Epoch: 409/499 | Loss: 0.0013 | Episodes: 1 | Win count: 0 | Win rate: 0.000 | time: 27.04 minutes\n",
      "Epoch: 410/499 | Loss: 0.0023 | Episodes: 1 | Win count: 0 | Win rate: 0.000 | time: 27.13 minutes\n",
      "Epoch: 411/499 | Loss: 0.0013 | Episodes: 1 | Win count: 0 | Win rate: 0.000 | time: 27.20 minutes\n",
      "Epoch: 412/499 | Loss: 0.0006 | Episodes: 1 | Win count: 0 | Win rate: 0.000 | time: 27.29 minutes\n",
      "Epoch: 413/499 | Loss: 0.0008 | Episodes: 1 | Win count: 0 | Win rate: 0.000 | time: 27.29 minutes\n",
      "Epoch: 414/499 | Loss: 0.0011 | Episodes: 1 | Win count: 0 | Win rate: 0.000 | time: 27.29 minutes\n",
      "Epoch: 415/499 | Loss: 0.0022 | Episodes: 1 | Win count: 0 | Win rate: 0.000 | time: 27.38 minutes\n"
     ]
    },
    {
     "name": "stdout",
     "output_type": "stream",
     "text": [
      "Epoch: 416/499 | Loss: 0.0001 | Episodes: 1 | Win count: 0 | Win rate: 0.000 | time: 27.39 minutes\n",
      "Epoch: 417/499 | Loss: 0.0238 | Episodes: 1 | Win count: 0 | Win rate: 0.000 | time: 27.46 minutes\n",
      "Epoch: 418/499 | Loss: 0.0012 | Episodes: 1 | Win count: 0 | Win rate: 0.000 | time: 27.53 minutes\n",
      "Epoch: 419/499 | Loss: 0.0012 | Episodes: 1 | Win count: 0 | Win rate: 0.000 | time: 27.60 minutes\n",
      "Epoch: 420/499 | Loss: 0.0010 | Episodes: 1 | Win count: 0 | Win rate: 0.000 | time: 27.70 minutes\n",
      "Epoch: 421/499 | Loss: 0.0015 | Episodes: 1 | Win count: 0 | Win rate: 0.000 | time: 27.79 minutes\n",
      "Epoch: 422/499 | Loss: 0.0030 | Episodes: 1 | Win count: 0 | Win rate: 0.000 | time: 27.87 minutes\n",
      "Epoch: 423/499 | Loss: 0.0007 | Episodes: 1 | Win count: 0 | Win rate: 0.000 | time: 27.95 minutes\n",
      "Epoch: 424/499 | Loss: 0.0010 | Episodes: 1 | Win count: 0 | Win rate: 0.000 | time: 28.03 minutes\n",
      "Epoch: 425/499 | Loss: 0.0007 | Episodes: 1 | Win count: 0 | Win rate: 0.000 | time: 28.11 minutes\n",
      "Epoch: 426/499 | Loss: 0.0015 | Episodes: 1 | Win count: 0 | Win rate: 0.000 | time: 28.20 minutes\n",
      "Epoch: 427/499 | Loss: 0.0023 | Episodes: 1 | Win count: 0 | Win rate: 0.000 | time: 28.29 minutes\n",
      "Epoch: 428/499 | Loss: 0.0019 | Episodes: 1 | Win count: 0 | Win rate: 0.000 | time: 28.29 minutes\n",
      "Epoch: 429/499 | Loss: 0.0016 | Episodes: 1 | Win count: 0 | Win rate: 0.000 | time: 28.37 minutes\n",
      "Epoch: 430/499 | Loss: 0.0026 | Episodes: 1 | Win count: 0 | Win rate: 0.000 | time: 28.45 minutes\n",
      "Epoch: 431/499 | Loss: 0.0005 | Episodes: 1 | Win count: 0 | Win rate: 0.000 | time: 28.52 minutes\n",
      "Epoch: 432/499 | Loss: 0.0019 | Episodes: 1 | Win count: 0 | Win rate: 0.000 | time: 28.60 minutes\n",
      "Epoch: 433/499 | Loss: 0.0020 | Episodes: 1 | Win count: 0 | Win rate: 0.000 | time: 28.68 minutes\n",
      "Epoch: 434/499 | Loss: 0.0016 | Episodes: 1 | Win count: 0 | Win rate: 0.000 | time: 28.76 minutes\n",
      "Epoch: 435/499 | Loss: 0.0002 | Episodes: 1 | Win count: 0 | Win rate: 0.000 | time: 28.84 minutes\n",
      "Epoch: 436/499 | Loss: 0.0012 | Episodes: 1 | Win count: 0 | Win rate: 0.000 | time: 28.93 minutes\n",
      "Epoch: 437/499 | Loss: 0.0026 | Episodes: 1 | Win count: 0 | Win rate: 0.000 | time: 29.01 minutes\n",
      "Epoch: 438/499 | Loss: 0.0009 | Episodes: 1 | Win count: 0 | Win rate: 0.000 | time: 29.09 minutes\n",
      "Epoch: 439/499 | Loss: 0.0010 | Episodes: 1 | Win count: 0 | Win rate: 0.000 | time: 29.16 minutes\n",
      "Epoch: 440/499 | Loss: 0.0013 | Episodes: 1 | Win count: 0 | Win rate: 0.000 | time: 29.24 minutes\n",
      "Epoch: 441/499 | Loss: 0.0008 | Episodes: 1 | Win count: 0 | Win rate: 0.000 | time: 29.28 minutes\n",
      "Epoch: 442/499 | Loss: 0.0237 | Episodes: 1 | Win count: 0 | Win rate: 0.000 | time: 29.35 minutes\n",
      "Epoch: 443/499 | Loss: 0.0003 | Episodes: 1 | Win count: 0 | Win rate: 0.000 | time: 29.42 minutes\n",
      "Epoch: 444/499 | Loss: 0.0026 | Episodes: 1 | Win count: 0 | Win rate: 0.000 | time: 29.49 minutes\n",
      "Epoch: 445/499 | Loss: 0.0007 | Episodes: 1 | Win count: 0 | Win rate: 0.000 | time: 29.49 minutes\n",
      "Epoch: 446/499 | Loss: 0.0235 | Episodes: 1 | Win count: 0 | Win rate: 0.000 | time: 29.49 minutes\n",
      "Epoch: 447/499 | Loss: 0.0006 | Episodes: 1 | Win count: 0 | Win rate: 0.000 | time: 29.56 minutes\n",
      "Epoch: 448/499 | Loss: 0.0021 | Episodes: 1 | Win count: 0 | Win rate: 0.000 | time: 29.64 minutes\n",
      "Epoch: 449/499 | Loss: 0.0010 | Episodes: 1 | Win count: 0 | Win rate: 0.000 | time: 29.71 minutes\n",
      "Epoch: 450/499 | Loss: 0.0012 | Episodes: 1 | Win count: 0 | Win rate: 0.000 | time: 29.78 minutes\n",
      "Epoch: 451/499 | Loss: 0.0014 | Episodes: 1 | Win count: 0 | Win rate: 0.000 | time: 29.85 minutes\n",
      "Epoch: 452/499 | Loss: 0.0013 | Episodes: 1 | Win count: 0 | Win rate: 0.000 | time: 29.87 minutes\n",
      "Epoch: 453/499 | Loss: 0.0008 | Episodes: 1 | Win count: 0 | Win rate: 0.000 | time: 29.94 minutes\n",
      "Epoch: 454/499 | Loss: 0.0015 | Episodes: 1 | Win count: 0 | Win rate: 0.000 | time: 30.02 minutes\n",
      "Epoch: 455/499 | Loss: 0.0014 | Episodes: 1 | Win count: 0 | Win rate: 0.000 | time: 30.08 minutes\n",
      "Epoch: 456/499 | Loss: 0.0000 | Episodes: 1 | Win count: 0 | Win rate: 0.000 | time: 30.16 minutes\n",
      "Epoch: 457/499 | Loss: 0.0012 | Episodes: 1 | Win count: 0 | Win rate: 0.000 | time: 30.24 minutes\n",
      "Epoch: 458/499 | Loss: 0.0012 | Episodes: 1 | Win count: 0 | Win rate: 0.000 | time: 30.30 minutes\n",
      "Epoch: 459/499 | Loss: 0.0017 | Episodes: 1 | Win count: 0 | Win rate: 0.000 | time: 30.38 minutes\n",
      "Epoch: 460/499 | Loss: 0.0027 | Episodes: 1 | Win count: 0 | Win rate: 0.000 | time: 30.46 minutes\n",
      "Epoch: 461/499 | Loss: 0.0012 | Episodes: 1 | Win count: 0 | Win rate: 0.000 | time: 30.48 minutes\n",
      "Epoch: 462/499 | Loss: 0.0002 | Episodes: 1 | Win count: 0 | Win rate: 0.000 | time: 30.55 minutes\n",
      "Epoch: 463/499 | Loss: 0.0018 | Episodes: 1 | Win count: 0 | Win rate: 0.000 | time: 30.63 minutes\n",
      "Epoch: 464/499 | Loss: 0.0001 | Episodes: 1 | Win count: 0 | Win rate: 0.000 | time: 30.70 minutes\n",
      "Epoch: 465/499 | Loss: 0.0019 | Episodes: 1 | Win count: 0 | Win rate: 0.000 | time: 30.77 minutes\n",
      "Epoch: 466/499 | Loss: 0.0018 | Episodes: 1 | Win count: 0 | Win rate: 0.000 | time: 30.84 minutes\n",
      "Epoch: 467/499 | Loss: 0.0009 | Episodes: 1 | Win count: 0 | Win rate: 0.000 | time: 30.92 minutes\n",
      "Epoch: 468/499 | Loss: 0.0017 | Episodes: 1 | Win count: 0 | Win rate: 0.000 | time: 30.96 minutes\n",
      "Epoch: 469/499 | Loss: 0.0007 | Episodes: 1 | Win count: 0 | Win rate: 0.000 | time: 31.03 minutes\n",
      "Epoch: 470/499 | Loss: 0.0002 | Episodes: 1 | Win count: 0 | Win rate: 0.000 | time: 31.09 minutes\n",
      "Epoch: 471/499 | Loss: 0.0013 | Episodes: 1 | Win count: 0 | Win rate: 0.000 | time: 31.17 minutes\n",
      "Epoch: 472/499 | Loss: 0.0029 | Episodes: 1 | Win count: 0 | Win rate: 0.000 | time: 31.23 minutes\n",
      "Epoch: 473/499 | Loss: 0.0017 | Episodes: 1 | Win count: 0 | Win rate: 0.000 | time: 31.25 minutes\n",
      "Epoch: 474/499 | Loss: 0.0023 | Episodes: 1 | Win count: 0 | Win rate: 0.000 | time: 31.33 minutes\n",
      "Epoch: 475/499 | Loss: 0.0008 | Episodes: 1 | Win count: 0 | Win rate: 0.000 | time: 31.39 minutes\n",
      "Epoch: 476/499 | Loss: 0.0001 | Episodes: 1 | Win count: 0 | Win rate: 0.000 | time: 31.46 minutes\n",
      "Epoch: 477/499 | Loss: 0.0002 | Episodes: 1 | Win count: 0 | Win rate: 0.000 | time: 31.53 minutes\n",
      "Epoch: 478/499 | Loss: 0.0011 | Episodes: 1 | Win count: 0 | Win rate: 0.000 | time: 31.61 minutes\n",
      "Epoch: 479/499 | Loss: 0.0006 | Episodes: 1 | Win count: 0 | Win rate: 0.000 | time: 31.63 minutes\n",
      "Epoch: 480/499 | Loss: 0.0006 | Episodes: 1 | Win count: 0 | Win rate: 0.000 | time: 31.64 minutes\n",
      "Epoch: 481/499 | Loss: 0.0011 | Episodes: 1 | Win count: 0 | Win rate: 0.000 | time: 31.65 minutes\n",
      "Epoch: 482/499 | Loss: 0.0017 | Episodes: 1 | Win count: 0 | Win rate: 0.000 | time: 31.72 minutes\n",
      "Epoch: 483/499 | Loss: 0.0001 | Episodes: 1 | Win count: 0 | Win rate: 0.000 | time: 31.80 minutes\n",
      "Epoch: 484/499 | Loss: 0.0008 | Episodes: 1 | Win count: 0 | Win rate: 0.000 | time: 31.86 minutes\n",
      "Epoch: 485/499 | Loss: 0.0013 | Episodes: 1 | Win count: 0 | Win rate: 0.000 | time: 31.94 minutes\n",
      "Epoch: 486/499 | Loss: 0.0028 | Episodes: 1 | Win count: 0 | Win rate: 0.000 | time: 32.02 minutes\n",
      "Epoch: 487/499 | Loss: 0.0006 | Episodes: 1 | Win count: 0 | Win rate: 0.000 | time: 32.10 minutes\n",
      "Epoch: 488/499 | Loss: 0.0021 | Episodes: 1 | Win count: 0 | Win rate: 0.000 | time: 32.20 minutes\n",
      "Epoch: 489/499 | Loss: 0.0018 | Episodes: 1 | Win count: 0 | Win rate: 0.000 | time: 32.30 minutes\n",
      "Epoch: 490/499 | Loss: 0.0006 | Episodes: 1 | Win count: 0 | Win rate: 0.000 | time: 32.30 minutes\n",
      "Epoch: 491/499 | Loss: 0.0017 | Episodes: 1 | Win count: 0 | Win rate: 0.000 | time: 32.40 minutes\n",
      "Epoch: 492/499 | Loss: 0.0006 | Episodes: 1 | Win count: 0 | Win rate: 0.000 | time: 32.48 minutes\n",
      "Epoch: 493/499 | Loss: 0.0010 | Episodes: 1 | Win count: 0 | Win rate: 0.000 | time: 32.57 minutes\n",
      "Epoch: 494/499 | Loss: 0.0013 | Episodes: 1 | Win count: 0 | Win rate: 0.000 | time: 32.59 minutes\n",
      "Epoch: 495/499 | Loss: 0.0002 | Episodes: 1 | Win count: 0 | Win rate: 0.000 | time: 32.68 minutes\n",
      "Epoch: 496/499 | Loss: 0.0012 | Episodes: 1 | Win count: 0 | Win rate: 0.000 | time: 32.74 minutes\n",
      "Epoch: 497/499 | Loss: 0.0015 | Episodes: 1 | Win count: 0 | Win rate: 0.000 | time: 32.77 minutes\n",
      "Epoch: 498/499 | Loss: 0.0015 | Episodes: 1 | Win count: 0 | Win rate: 0.000 | time: 32.85 minutes\n"
     ]
    },
    {
     "name": "stdout",
     "output_type": "stream",
     "text": [
      "Epoch: 499/499 | Loss: 0.0019 | Episodes: 1 | Win count: 0 | Win rate: 0.000 | time: 32.93 minutes\n",
      "n_epoch: 499, max_mem: 512, data: 16, time: 32.93 minutes\n"
     ]
    },
    {
     "data": {
      "text/plain": [
       "1975.782349"
      ]
     },
     "execution_count": 11,
     "metadata": {},
     "output_type": "execute_result"
    }
   ],
   "source": [
    "model = build_model(maze)\n",
    "qtrain(model, maze, epochs=500, max_memory=8*maze.size, data_size=16)"
   ]
  },
  {
   "cell_type": "markdown",
   "metadata": {},
   "source": [
    "This cell will check to see if the model passes the completion check. Note: This could take several minutes."
   ]
  },
  {
   "cell_type": "code",
   "execution_count": 15,
   "metadata": {},
   "outputs": [
    {
     "data": {
      "text/plain": [
       "<matplotlib.image.AxesImage at 0x26c16df9448>"
      ]
     },
     "execution_count": 15,
     "metadata": {},
     "output_type": "execute_result"
    },
    {
     "data": {
      "image/png": "[encoded data removed]",
      "text/plain": [
       "<Figure size 432x288 with 1 Axes>"
      ]
     },
     "metadata": {
      "needs_background": "light"
     },
     "output_type": "display_data"
    }
   ],
   "source": [
    "completion_check(model, qmaze)\n",
    "show(qmaze)"
   ]
  },
  {
   "cell_type": "markdown",
   "metadata": {},
   "source": [
    "This cell will test your model for one game. It will start the pirate at the top-left corner and run play_game. The agent should find a path from the starting position to the target (treasure). The treasure is located in the bottom-right corner."
   ]
  },
  {
   "cell_type": "code",
   "execution_count": 16,
   "metadata": {},
   "outputs": [
    {
     "data": {
      "text/plain": [
       "<matplotlib.image.AxesImage at 0x26c16e69208>"
      ]
     },
     "execution_count": 16,
     "metadata": {},
     "output_type": "execute_result"
    },
    {
     "data": {
      "image/png": "[encoded data removed]",
      "text/plain": [
       "<Figure size 432x288 with 1 Axes>"
      ]
     },
     "metadata": {
      "needs_background": "light"
     },
     "output_type": "display_data"
    }
   ],
   "source": [
    "pirate_start = (0, 0)\n",
    "play_game(model, qmaze, pirate_start)\n",
    "show(qmaze)"
   ]
  },
  {
   "cell_type": "markdown",
   "metadata": {},
   "source": [
    "## Save and Submit Your Work\n",
    "After you have finished creating the code for your notebook, save your work. Make sure that your notebook contains your name in the filename (e.g. Doe_Jane_ProjectTwo.ipynb). This will help your instructor access and grade your work easily. Download a copy of your IPYNB file and submit it to Brightspace. Refer to the Jupyter Notebook in Apporto Tutorial if you need help with these tasks."
   ]
  },
  {
   "cell_type": "code",
   "execution_count": null,
   "metadata": {},
   "outputs": [],
   "source": []
  }
 ],
 "metadata": {
  "kernelspec": {
   "display_name": "Python 3",
   "language": "python",
   "name": "python3"
  },
  "language_info": {
   "codemirror_mode": {
    "name": "ipython",
    "version": 3
   },
   "file_extension": ".py",
   "mimetype": "text/x-python",
   "name": "python",
   "nbconvert_exporter": "python",
   "pygments_lexer": "ipython3",
   "version": "3.7.4"
  }
 },
 "nbformat": 4,
 "nbformat_minor": 2
}
